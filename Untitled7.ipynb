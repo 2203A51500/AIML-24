{
  "nbformat": 4,
  "nbformat_minor": 0,
  "metadata": {
    "colab": {
      "provenance": []
    },
    "kernelspec": {
      "name": "python3",
      "display_name": "Python 3"
    },
    "language_info": {
      "name": "python"
    }
  },
  "cells": [
    {
      "cell_type": "code",
      "execution_count": null,
      "metadata": {
        "id": "HYOD4lDV9TzY"
      },
      "outputs": [],
      "source": [
        "import pandas as pd\n",
        "from sklearn.model_selection import train_test_split\n",
        "from sklearn.tree import DecisionTreeClassifier\n",
        "from sklearn.metrics import accuracy_score, precision_score, recall_score, f1_score\n",
        "\n",
        "\n",
        "dataset_path = 'path/to/dataset.csv'\n",
        "df = pd.read_csv('/content/breast_cancer_survival.csv')\n",
        "\n",
        "\n",
        "df['Gender'] = df['Gender'].map({'MALE': 0, 'FEMALE':1})\n",
        "df['Tumour_Stage']=df['Tumour_Stage'].map({'I':1,'II':2,'III':3})\n",
        "df['Patient_Status']=df['Patient_Status'].map({'Alive':1,'Dead':0})\n",
        "\n",
        "print(df)\n",
        "df=df.drop('Histology',axis=1)\n",
        "df=df.drop('ER status',axis=1)\n",
        "df=df.drop('PR status',axis=1)\n",
        "df=df.drop('HER2 status',axis=1)\n",
        "df=df.drop('Surgery_type',axis=1)\n",
        "df=df.drop('Date_of_Surgery',axis=1)\n",
        "df=df.drop('Date_of_Last_Visit',axis=1)\n",
        "df=df.fillna(0)\n",
        "y = df['Patient_Status']\n",
        "X = df.drop(columns=['Patient_Status'])\n",
        "print(X)\n",
        "X_train, X_test, y_train, y_test = train_test_split(X, y, test_size=0.2, random_state=42)\n",
        "tree_classifier = DecisionTreeClassifier(random_state=42)\n",
        "tree_classifier.fit(X_train, y_train)\n",
        "\n",
        "y_pred = tree_classifier.predict(X_test)"
      ]
    }
  ]
}